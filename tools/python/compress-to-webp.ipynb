{
 "cells": [
  {
   "cell_type": "code",
   "execution_count": 83,
   "metadata": {},
   "outputs": [],
   "source": [
    "from PIL import Image\n",
    "import os"
   ]
  },
  {
   "cell_type": "code",
   "execution_count": 84,
   "metadata": {},
   "outputs": [],
   "source": [
    "def is_webp_file(file_path):\n",
    "    _, file_extension = os.path.splitext(file_path)\n",
    "    return file_extension.lower() == \".webp\""
   ]
  },
  {
   "cell_type": "code",
   "execution_count": 85,
   "metadata": {},
   "outputs": [],
   "source": [
    "def find_non_webp_images(root_folder):\n",
    "    for foldername, _, filenames in os.walk(root_folder):\n",
    "        for filename in filenames:\n",
    "            file_path = os.path.join(foldername, filename)\n",
    "            if is_webp_file(file_path) is False:\n",
    "                try:\n",
    "                    with Image.open(file_path) as img:\n",
    "                        img.save(\n",
    "                            file_path.replace(os.path.splitext(file_path)[1], \".webp\"),\n",
    "                            \"WEBP\",\n",
    "                        )\n",
    "                        print(\n",
    "                            f\"Conversion successful! Image saved to {file_path.replace(os.path.splitext(file_path)[1], '.webp')}\"\n",
    "                        )\n",
    "                except Exception as e:\n",
    "                    print(f\"Error converting image: {e}\")"
   ]
  },
  {
   "cell_type": "code",
   "execution_count": 86,
   "metadata": {},
   "outputs": [
    {
     "name": "stdout",
     "output_type": "stream",
     "text": [
      "Conversion successful! Image saved to ../res\\categories\\essentials.webp\n",
      "Conversion successful! Image saved to ../res\\categories\\men.webp\n",
      "Conversion successful! Image saved to ../res\\categories\\women.webp\n",
      "Error converting image: cannot identify image file '../res\\\\clothes\\\\data\\\\clothes-data.csv'\n",
      "Error converting image: cannot identify image file '../res\\\\clothes\\\\data\\\\clothes-data.json'\n"
     ]
    }
   ],
   "source": [
    "non_webp_images = find_non_webp_images(\"../res\")"
   ]
  }
 ],
 "metadata": {
  "kernelspec": {
   "display_name": "base",
   "language": "python",
   "name": "python3"
  },
  "language_info": {
   "codemirror_mode": {
    "name": "ipython",
    "version": 3
   },
   "file_extension": ".py",
   "mimetype": "text/x-python",
   "name": "python",
   "nbconvert_exporter": "python",
   "pygments_lexer": "ipython3",
   "version": "3.9.13"
  }
 },
 "nbformat": 4,
 "nbformat_minor": 2
}
